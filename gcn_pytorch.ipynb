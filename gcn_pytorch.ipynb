{
 "cells": [
  {
   "cell_type": "code",
   "execution_count": 1,
   "metadata": {},
   "outputs": [],
   "source": [
    "import numpy as np\n",
    "import networkx as nx\n",
    "import os\n",
    "import typing\n",
    "\n",
    "import torch\n",
    "from torch.nn import Linear \n",
    "\n",
    "from torch.nn.modules.module import Module\n",
    "import torch.nn.functional as F\n",
    "\n",
    "from sklearn import preprocessing\n",
    "from sklearn.model_selection import train_test_split\n",
    "\n",
    "import matplotlib.pyplot as plt\n",
    "%matplotlib inline\n"
   ]
  },
  {
   "cell_type": "code",
   "execution_count": 2,
   "metadata": {},
   "outputs": [],
   "source": [
    "dataset_folder = \"cora/\""
   ]
  },
  {
   "cell_type": "code",
   "execution_count": 3,
   "metadata": {},
   "outputs": [
    {
     "data": {
      "text/plain": [
       "[('cora/', [], ['README', 'cora.content', 'cora.cites'])]"
      ]
     },
     "execution_count": 3,
     "metadata": {},
     "output_type": "execute_result"
    }
   ],
   "source": [
    "[x for x in os.walk(dataset_folder)]"
   ]
  },
  {
   "cell_type": "markdown",
   "metadata": {},
   "source": [
    "# DATA"
   ]
  },
  {
   "cell_type": "code",
   "execution_count": 4,
   "metadata": {},
   "outputs": [],
   "source": [
    "\n",
    "file_cities = os.path.join(dataset_folder,'cora.cites')\n",
    "file_content = os.path.join(dataset_folder,'cora.content')"
   ]
  },
  {
   "cell_type": "code",
   "execution_count": 5,
   "metadata": {},
   "outputs": [],
   "source": [
    "def get_edges(file_cities: str) -> np.array:\n",
    "    \n",
    "    \"\"\" Method return all edges array\"\"\"\n",
    "    \n",
    "    edges = []\n",
    "    with open(file=file_cities,mode='r') as f:\n",
    "        for data in f.readlines():\n",
    "            data = data.split('\\t')\n",
    "            edges.append((data[0],data[1][:-1]))\n",
    "            \n",
    "    return np.asarray(edges)\n",
    "\n",
    "\n",
    "def get_node_info(file_content: str ) -> np.array:\n",
    "    \n",
    "    \"\"\"Method return node name and index, nodes features and lables\"\"\"\n",
    "    \n",
    "    nodes_index ={}\n",
    "    nodes_features = []\n",
    "    labels = []\n",
    "\n",
    "    with open(file=file_content,mode='r') as f:\n",
    "        for i,data in enumerate(f.readlines()):\n",
    "            data = data.split('\\t')\n",
    "            nodes_index[data[0]]= i \n",
    "            nodes_features.append(data[1:-1])\n",
    "            labels.append(data[-1][:-1])\n",
    "    \n",
    "    return nodes_index,np.asarray(nodes_features,dtype = int),np.asarray(labels)\n",
    "\n",
    "\n",
    "def label_encode(lables: typing.List) ->typing.Tuple:\n",
    "    \n",
    "    \"\"\" Method for lable encode\"\"\"\n",
    "    \n",
    "    le = preprocessing.LabelEncoder()\n",
    "    lables = le.fit_transform(lables)\n",
    "    \n",
    "    return le.classes_,lables\n",
    "\n",
    "\n",
    "def get_graph(edges: typing.List[typing.Set]):\n",
    "    \"\"\" Method to get Graph\"\"\"\n",
    "    \n",
    "    G = nx.Graph()\n",
    "    #G.add_nodes_from(nodes)\n",
    "    G.add_edges_from(edges)\n",
    "    print('Graph info: ', nx.info(G))\n",
    "    \n",
    "    return G\n",
    "    "
   ]
  },
  {
   "cell_type": "code",
   "execution_count": 6,
   "metadata": {},
   "outputs": [
    {
     "name": "stdout",
     "output_type": "stream",
     "text": [
      "Graph info:  Name: \n",
      "Type: Graph\n",
      "Number of nodes: 2708\n",
      "Number of edges: 5278\n",
      "Average degree:   3.8981\n",
      "Sample edge ['35' '1033']\n",
      "vocabulary of size 1433 unique words\n",
      "Number of nodes 2708\n",
      "Number of class 7\n",
      "class label : ['Case_Based' 'Genetic_Algorithms' 'Neural_Networks'\n",
      " 'Probabilistic_Methods' 'Reinforcement_Learning' 'Rule_Learning' 'Theory']\n"
     ]
    }
   ],
   "source": [
    "edges = get_edges(file_cities)\n",
    "nodes_index,nodes_features,labels = get_node_info(file_content)\n",
    "G =get_graph(edges=edges)\n",
    "label_class, labels=label_encode(labels)\n",
    "\n",
    "\n",
    "print(\"Sample edge\",edges[0])\n",
    "total_no_of_nodes = len(nodes_features)\n",
    "print(\"vocabulary of size {} unique words\".format(len(nodes_features[0])))\n",
    "print(\"Number of nodes\",total_no_of_nodes)\n",
    "total_no_of_class = len(set(labels))\n",
    "print(\"Number of class\",total_no_of_class)\n",
    "print(\"class label :\", label_class)"
   ]
  },
  {
   "cell_type": "code",
   "execution_count": 7,
   "metadata": {},
   "outputs": [],
   "source": [
    "\n",
    "# get matrix and nodes\n",
    "adj_matrix, nodes = nx.attr_matrix(G)\n",
    "adj_matrix, nodes = np.asarray(adj_matrix), np.asarray(nodes, dtype=int)\n",
    "\n",
    "# degree for each node\n",
    "degree = dict(G.degree())\n",
    "\n",
    "# add self loop\n",
    "np.fill_diagonal(adj_matrix, 1)\n",
    "\n",
    "# nodes fearures in order with adj_matrix nodes\n",
    "nodes_features = np.array([nodes_features[nodes_index[str(node)]] for node in nodes])\n",
    "\n",
    "# create dignal matrix\n",
    "degree_matrix = np.diag([ degree[str(node)] for node in nodes])\n",
    "\n",
    "# inververt matrix\n",
    "deg = np.linalg.inv(degree_matrix)\n",
    "\n",
    "# order lable by nodes\n",
    "labels = [labels[nodes_index[str(node)]]  for node in nodes]"
   ]
  },
  {
   "cell_type": "code",
   "execution_count": 8,
   "metadata": {},
   "outputs": [],
   "source": [
    "device=torch.device('cpu')\n",
    "\n",
    "# if gpu available replace device\n",
    "if torch.cuda.is_available():\n",
    "    device=torch.device('cuda')\n",
    "\n"
   ]
  },
  {
   "cell_type": "code",
   "execution_count": 9,
   "metadata": {},
   "outputs": [],
   "source": [
    "\n",
    "class GCN(Module):\n",
    "    \"\"\" graph convolutional network\"\"\"\n",
    "    \n",
    "    def __init__(self, in_features: int,\n",
    "                 out_features: int) -> None:\n",
    "        \n",
    "        super(GCN, self).__init__()\n",
    "        self.lin = Linear(in_features, out_features)\n",
    "    \n",
    "    \n",
    "    def forward(self,adj_matrix:  torch.Tensor,\n",
    "                nodes_features: torch.Tensor,\n",
    "                deg: torch.Tensor) -> torch.Tensor:\n",
    "    \n",
    "        # message passing\n",
    "        # normalization\n",
    "        nodes_features = deg.mm(adj_matrix.mm(deg.mm(nodes_features)))\n",
    "        # linear traonfomation AX^T + B\n",
    "        nodes_features = self.lin(nodes_features)\n",
    "        \n",
    "        return nodes_features\n",
    "        \n",
    "    "
   ]
  },
  {
   "cell_type": "code",
   "execution_count": 10,
   "metadata": {},
   "outputs": [],
   "source": [
    "class Model(Module):\n",
    "    \n",
    "    def __init__(self,num_node_features : int,\n",
    "                 num_classes : int, \n",
    "                 hidden_nodes = 16)-> None: \n",
    "        \n",
    "        \"\"\" num_node_features: input feature size\n",
    "            num_classes: no of class\n",
    "            hidden_nodes: hidden unit\n",
    "        \"\"\"\n",
    "        super(Model,self).__init__()\n",
    "        \n",
    "        self.gcn1 = GCN(num_node_features, 16)\n",
    "        self.gcn2 = GCN(16, num_classes)\n",
    "        \n",
    "        \n",
    "    def forward(self,\n",
    "                adj_matrix,\n",
    "                nodes_features,\n",
    "                deg) -> torch.Tensor:\n",
    "        \n",
    "        nodes_features= self.gcn1(adj_matrix,nodes_features,deg)\n",
    "        nodes_features = F.relu(nodes_features)\n",
    "        nodes_features =  F.dropout(nodes_features, training=self.training)\n",
    "        nodes_features = self.gcn2(adj_matrix,nodes_features,deg)\n",
    "        \n",
    "        return F.log_softmax(nodes_features,dim = 1)   "
   ]
  },
  {
   "cell_type": "code",
   "execution_count": 11,
   "metadata": {},
   "outputs": [
    {
     "data": {
      "text/plain": [
       "Model(\n",
       "  (gcn1): GCN(\n",
       "    (lin): Linear(in_features=1433, out_features=16, bias=True)\n",
       "  )\n",
       "  (gcn2): GCN(\n",
       "    (lin): Linear(in_features=16, out_features=7, bias=True)\n",
       "  )\n",
       ")"
      ]
     },
     "execution_count": 11,
     "metadata": {},
     "output_type": "execute_result"
    }
   ],
   "source": [
    "model = Model(len(nodes_features[0]),len(label_class))\n",
    "\n",
    "adj_matrix = torch.tensor(adj_matrix, dtype = torch.float).to(device)\n",
    "nodes_features = torch.tensor(nodes_features,dtype = torch.float).to(device)\n",
    "deg = torch.tensor(deg,dtype = torch.float).to(device)\n",
    "labels = torch.tensor(labels, dtype = torch.long).to(device)\n",
    "model.to(device)\n"
   ]
  },
  {
   "cell_type": "code",
   "execution_count": 12,
   "metadata": {},
   "outputs": [],
   "source": [
    "# train and val index (nodes)"
   ]
  },
  {
   "cell_type": "code",
   "execution_count": 13,
   "metadata": {},
   "outputs": [],
   "source": [
    "train_index,val_index ,_,_ = train_test_split(np.arange(0,len(labels)),labels,random_state = 100, test_size= 0.2)"
   ]
  },
  {
   "cell_type": "code",
   "execution_count": 14,
   "metadata": {},
   "outputs": [],
   "source": [
    "def accuracy(pred, labels):\n",
    "    \"\"\" accuracy calculation \"\"\"\n",
    "    preds = pred.max(1)[1].type_as(labels)\n",
    "    actual = preds.eq(labels).double()\n",
    "    actual = actual.sum()\n",
    "    return actual / len(labels)"
   ]
  },
  {
   "cell_type": "markdown",
   "metadata": {},
   "source": [
    "# Train and validate"
   ]
  },
  {
   "cell_type": "code",
   "execution_count": 15,
   "metadata": {},
   "outputs": [],
   "source": [
    "def run():\n",
    "    \n",
    "    \"\"\"Method train and validate model\"\"\"\n",
    "    \n",
    "    model.train()\n",
    "\n",
    "    optimizer = torch.optim.Adam(model.parameters(),\n",
    "                                 lr=0.01,\n",
    "                                 weight_decay=5e-4)\n",
    "    \n",
    "    train_lost = []\n",
    "    val_lost = []\n",
    "    train_acc = []\n",
    "    val_acc = []\n",
    "    \n",
    "    for epoch in range(200):\n",
    "        optimizer.zero_grad()\n",
    "        pred = model(adj_matrix,nodes_features,deg)\n",
    "        loss_train = F.nll_loss(pred[train_index], labels[train_index])\n",
    "        acc_train = accuracy(pred[train_index], labels[train_index])\n",
    "        loss_train.backward()\n",
    "        optimizer.step()\n",
    "        \n",
    "        model.eval()\n",
    "        loss_val = F.nll_loss(pred[val_index], labels[val_index])\n",
    "        acc_val = accuracy(pred[val_index], labels[val_index])\n",
    "\n",
    "        if epoch%10==0:\n",
    "            print(\"epoch\",epoch ,end = \" \")\n",
    "            print(\"train loss\",loss_train.item(),end = \" \")\n",
    "            print(\"val loss\",loss_val.item(), end =\" \")\n",
    "            \n",
    "            print(\"train accu\",acc_train.item(), end = \" \")\n",
    "            print(\"val accu\",acc_val.item(),end =\" \")\n",
    "            print()\n",
    "            \n",
    "        train_acc.append(acc_train.item())\n",
    "        val_acc.append(acc_val.item())\n",
    "        train_lost.append(loss_train.item())\n",
    "        val_lost.append(loss_val.item())\n",
    "            \n",
    "    return val_acc,val_lost,train_acc,train_lost\n"
   ]
  },
  {
   "cell_type": "code",
   "execution_count": 16,
   "metadata": {},
   "outputs": [
    {
     "name": "stdout",
     "output_type": "stream",
     "text": [
      "epoch 0 train loss 1.923622727394104 val loss 1.9285848140716553 train accu 0.28808864265927975 val accu 0.28044280442804426 \n",
      "epoch 10 train loss 1.5559874773025513 val loss 1.6321512460708618 train accu 0.4445983379501385 val accu 0.3966789667896679 \n",
      "epoch 20 train loss 1.2736297845840454 val loss 1.4134140014648438 train accu 0.5784856879039705 val accu 0.49815498154981547 \n",
      "epoch 30 train loss 1.0714712142944336 val loss 1.2595583200454712 train accu 0.6662049861495845 val accu 0.5940959409594095 \n",
      "epoch 40 train loss 0.9184266924858093 val loss 1.1426633596420288 train accu 0.7405355493998153 val accu 0.6715867158671587 \n",
      "epoch 50 train loss 0.8007168769836426 val loss 1.051166296005249 train accu 0.8024007386888273 val accu 0.7306273062730627 \n",
      "epoch 60 train loss 0.7102753520011902 val loss 0.9851430058479309 train accu 0.8351800554016621 val accu 0.7785977859778598 \n",
      "epoch 70 train loss 0.6411804556846619 val loss 0.9445732831954956 train accu 0.8541089566020313 val accu 0.8136531365313653 \n",
      "epoch 80 train loss 0.587600827217102 val loss 0.9141845107078552 train accu 0.8674976915974145 val accu 0.8118081180811808 \n",
      "epoch 90 train loss 0.5452943444252014 val loss 0.8912795186042786 train accu 0.8771929824561403 val accu 0.8247232472324723 \n",
      "epoch 100 train loss 0.5113939642906189 val loss 0.8750677704811096 train accu 0.889196675900277 val accu 0.8394833948339483 \n",
      "epoch 110 train loss 0.483439564704895 val loss 0.8636935353279114 train accu 0.8951985226223453 val accu 0.8542435424354243 \n",
      "epoch 120 train loss 0.4603568911552429 val loss 0.8568960428237915 train accu 0.9002770083102493 val accu 0.8597785977859779 \n",
      "epoch 130 train loss 0.44102907180786133 val loss 0.8533005714416504 train accu 0.9044321329639888 val accu 0.8560885608856088 \n",
      "epoch 140 train loss 0.42407917976379395 val loss 0.8536781668663025 train accu 0.9085872576177285 val accu 0.8542435424354243 \n",
      "epoch 150 train loss 0.4097483158111572 val loss 0.8544606566429138 train accu 0.9136657433056324 val accu 0.8542435424354243 \n",
      "epoch 160 train loss 0.3970639705657959 val loss 0.8560764789581299 train accu 0.9187442289935365 val accu 0.8560885608856088 \n",
      "epoch 170 train loss 0.3856614828109741 val loss 0.8602062463760376 train accu 0.9210526315789473 val accu 0.8579335793357933 \n",
      "epoch 180 train loss 0.37581557035446167 val loss 0.8646109104156494 train accu 0.9270544783010156 val accu 0.8616236162361623 \n",
      "epoch 190 train loss 0.36682209372520447 val loss 0.8685332536697388 train accu 0.92797783933518 val accu 0.8634686346863468 \n"
     ]
    }
   ],
   "source": [
    "val_acc,val_lost,train_acc,train_lost = run()"
   ]
  },
  {
   "cell_type": "markdown",
   "metadata": {},
   "source": [
    "# Accuracy "
   ]
  },
  {
   "cell_type": "code",
   "execution_count": 24,
   "metadata": {},
   "outputs": [
    {
     "name": "stderr",
     "output_type": "stream",
     "text": [
      "No handles with labels found to put in legend.\n"
     ]
    },
    {
     "data": {
      "image/png": "[encoded data removed]",
      "text/plain": [
       "<Figure size 720x432 with 1 Axes>"
      ]
     },
     "metadata": {
      "needs_background": "light"
     },
     "output_type": "display_data"
    }
   ],
   "source": [
    "plt.figure(figsize=(10, 6))\n",
    "\n",
    "plt.plot(val_acc, 'r')\n",
    "plt.title(\"train and val accuracy\")\n",
    "plt.xlabel(\"epochs\")\n",
    "plt.ylabel(\"accuracy\")\n",
    "plt.legend(loc='best')\n",
    "\n",
    "plt.show()\n",
    "plt.savefig(\"accuracy.png\")\n",
    "plt.close()\n"
   ]
  },
  {
   "cell_type": "markdown",
   "metadata": {},
   "source": [
    "# Loss"
   ]
  },
  {
   "cell_type": "code",
   "execution_count": 18,
   "metadata": {},
   "outputs": [
    {
     "data": {
      "text/plain": [
       "[<matplotlib.lines.Line2D at 0x7fe5b8d94be0>]"
      ]
     },
     "execution_count": 18,
     "metadata": {},
     "output_type": "execute_result"
    },
    {
     "data": {
      "image/png": "[encoded data removed]",
      "text/plain": [
       "<Figure size 432x288 with 1 Axes>"
      ]
     },
     "metadata": {
      "needs_background": "light"
     },
     "output_type": "display_data"
    }
   ],
   "source": [
    "plt.plot(train_lost,'b')\n",
    "plt.plot(val_lost,'r')"
   ]
  },
  {
   "cell_type": "code",
   "execution_count": null,
   "metadata": {},
   "outputs": [],
   "source": []
  }
 ],
 "metadata": {
  "kernelspec": {
   "display_name": "Python 3",
   "language": "python",
   "name": "python3"
  },
  "language_info": {
   "codemirror_mode": {
    "name": "ipython",
    "version": 3
   },
   "file_extension": ".py",
   "mimetype": "text/x-python",
   "name": "python",
   "nbconvert_exporter": "python",
   "pygments_lexer": "ipython3",
   "version": "3.8.2"
  }
 },
 "nbformat": 4,
 "nbformat_minor": 4
}
